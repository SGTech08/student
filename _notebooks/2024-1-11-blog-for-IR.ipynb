{
 "cells": [
  {
   "cell_type": "markdown",
   "metadata": {},
   "source": [
    "---\n",
    "toc: true\n",
    "comments: true\n",
    "layout: post\n",
    "title: Independent Review\n",
    "description: Discussion and reflection on first half year of AP CSP\n",
    "courses: {csp: {week: 18}}\n",
    "type: hacks\n",
    "---"
   ]
  },
  {
   "cell_type": "markdown",
   "metadata": {},
   "source": [
    "### Independent Review: Understanding the Binary Encryptor\n",
    "\n",
    "#### My Journey with the Binary Encryptor\n",
    "\n",
    "As part of my project, I dived into the world of binary code, focusing on something called a binary encryptor. It was like learning a secret language used by computers. \n",
    "\n",
    "#### What is a Binary Encryptor?\n",
    "\n",
    "Imagine you want to send a secret message to a friend, but you can only use flashlights. You agree that flashing the light once means 'yes' (or 1), and not flashing it means 'no' (or 0). A binary encryptor does something similar with text. It takes the letters and turns them into a series of flashes (or in computer terms, 1s and 0s). This way, it 'hides' the original message.\n",
    "\n",
    "#### What I Learned\n",
    "\n",
    "1. **Binary Basics**: I discovered that computers use just two numbers, 0 and 1, to represent everything. It's like using on/off switches to create a language.\n",
    "\n",
    "2. **Minimal Logic Gates Knowledge**: I also got a glimpse into something called 'logic gates.' These are like tiny decision-makers in computers that help process the 1s and 0s.\n",
    "\n",
    "#### In Simple Terms\n",
    "\n",
    "It felt like I was learning to communicate in a completely new way, where every letter of our alphabet was replaced by a unique combination of just two 'words' – yes or no, on or off, 1 or 0. The binary encryptor was my guide into this new language, showing me how complex ideas can be broken down into simple yes-no questions.\n"
   ]
  },
  {
   "cell_type": "markdown",
   "metadata": {},
   "source": [
    "### Home Project: Sneaker Price Magic with Machine Learning\n",
    "\n",
    "#### My Adventure with Sneakers and Computers\n",
    "\n",
    "I've started this really cool project at home. It's all about combining my love for sneakers with the smartness of computers, specifically machine learning. The idea is to make a tool that guesses the future prices of sneakers!\n",
    "\n",
    "#### What's This Project About?\n",
    "\n",
    "Think of it like a fortune teller for sneaker prices. Using machine learning, I'm teaching a computer to look at things like how popular a sneaker brand is, when the sneakers were released, and what their prices were in the past. Then, it tries to predict what these sneakers might sell for in the future. This could be super helpful for people who sell sneakers to make a profit.\n",
    "\n",
    "#### What I'm Learning Along the Way\n",
    "\n",
    "1. **Machine Learning Basics**: It's like teaching a computer to recognize patterns. I'm learning how to make the computer 'learn' from a bunch of sneaker data.\n",
    "\n",
    "2. **Playing with Data**: A big part of this is looking at sneaker prices from before, seeing trends, and figuring out what makes prices go up or down.\n",
    "\n",
    "3. **Fun with a Purpose**: I love sneakers, and using this love to learn something as futuristic as machine learning is really exciting. It's not just about the tech, but also about connecting it to my interests.\n",
    "\n",
    "#### In Simple Words\n",
    "\n",
    "It's like I'm building a smart assistant that helps sneaker sellers know when it's the best time to sell their sneakers. And the coolest part? I'm teaching it to be smart by showing it loads of stuff about sneakers. It's a blend of tech and my passion for sneakers, and I'm learning a lot while having fun!\n"
   ]
  }
 ],
 "metadata": {
  "language_info": {
   "name": "python"
  },
  "orig_nbformat": 4
 },
 "nbformat": 4,
 "nbformat_minor": 2
}
