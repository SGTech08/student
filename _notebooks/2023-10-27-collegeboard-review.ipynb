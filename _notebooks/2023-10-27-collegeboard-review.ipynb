{
 "cells": [
  {
   "cell_type": "markdown",
   "metadata": {},
   "source": [
    "---\n",
    "toc: true\n",
    "comments: true\n",
    "layout: post\n",
    "title: college board review\n",
    "type: hacks\n",
    "courses: { csp: {week: 10} }\n",
    "---"
   ]
  },
  {
   "cell_type": "markdown",
   "metadata": {},
   "source": [
    "# College Board Review\n",
    "\n",
    "### Question 3\n",
    "Term: Citizen Science\n",
    "Definition: the collection and analysis of data relating to the natural world by members of the general public, typically as part of a collaborative project with professional scientists.\n",
    "My definition: A community project to collect data.\n",
    "\n",
    "### Question 6\n",
    "Term: Internet Task Force\n",
    "Definition: The Internet Engineering Task Force is a standards organization for the Internet and is responsible for the technical standards that make up the Internet protocol suite. It has no formal membership roster or requirements and all its participants are volunteers.\n",
    "My def: responsible for technical aspects of the internet. All employees are volunteers.\n",
    "\n",
    "### Question 17\n",
    "Digital Divide means the division or the unaccesability of technology of remote areas with poverty.\n",
    "\n",
    "### Question 28\n",
    "If 1 bit is used, we can represent 2 characters (2^1 = 2).\n",
    "If 2 bits are used, we can represent 4 characters (2^2 = 4).\n",
    "If 3 bits are used, we can represent 8 characters (2^3 = 8).\n",
    "If 4 bits are used, we can represent 16 characters (2^4 = 16).\n",
    "If 5 bits are used, we can represent 32 characters (2^5 = 32).\n",
    "If 6 bits are used, we can represent 64 characters (2^6 = 64).\n",
    "If 7 bits are used, we can represent 128 characters (2^7 = 128).\n",
    "If 8 bits are used, we can represent 256 characters (2^8 = 256).\n",
    "\n",
    "Since 200 characters fall between 128 and 256, we need a minimum of 8 bits to assign a unique bit sequence to each of the 200 characters.\n",
    "\n",
    "### Question 55\n",
    "Not possible to equal both yes and y herefor it automatically returns No\n",
    "\n"
   ]
  }
 ],
 "metadata": {
  "kernelspec": {
   "display_name": "Python 3",
   "language": "python",
   "name": "python3"
  },
  "language_info": {
   "codemirror_mode": {
    "name": "ipython",
    "version": 3
   },
   "file_extension": ".py",
   "mimetype": "text/x-python",
   "name": "python",
   "nbconvert_exporter": "python",
   "pygments_lexer": "ipython3",
   "version": "3.11.4"
  }
 },
 "nbformat": 4,
 "nbformat_minor": 2
}
