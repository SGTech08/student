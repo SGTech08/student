{
 "cells": [
  {
   "cell_type": "markdown",
   "metadata": {},
   "source": [
    "---\n",
    "toc: true\n",
    "comments: true\n",
    "layout: post\n",
    "title: Collegeboard corrections\n",
    "description: Discussion and reflection on recent collegeboard mcq\n",
    "courses: {csp: {week: 16}}\n",
    "type: hacks\n",
    "---"
   ]
  },
  {
   "cell_type": "markdown",
   "metadata": {},
   "source": [
    "### Independent Review: Understanding the Binary Encryptor\n",
    "\n",
    "#### My Journey with the Binary Encryptor\n",
    "\n",
    "As part of my project, I dived into the world of binary code, focusing on something called a binary encryptor. It was like learning a secret language used by computers. \n",
    "\n",
    "#### What is a Binary Encryptor?\n",
    "\n",
    "Imagine you want to send a secret message to a friend, but you can only use flashlights. You agree that flashing the light once means 'yes' (or 1), and not flashing it means 'no' (or 0). A binary encryptor does something similar with text. It takes the letters and turns them into a series of flashes (or in computer terms, 1s and 0s). This way, it 'hides' the original message.\n",
    "\n",
    "#### What I Learned\n",
    "\n",
    "1. **Binary Basics**: I discovered that computers use just two numbers, 0 and 1, to represent everything. It's like using on/off switches to create a language.\n",
    "\n",
    "2. **Minimal Logic Gates Knowledge**: I also got a glimpse into something called 'logic gates.' These are like tiny decision-makers in computers that help process the 1s and 0s.\n",
    "\n",
    "#### In Simple Terms\n",
    "\n",
    "It felt like I was learning to communicate in a completely new way, where every letter of our alphabet was replaced by a unique combination of just two 'words' – yes or no, on or off, 1 or 0. The binary encryptor was my guide into this new language, showing me how complex ideas can be broken down into simple yes-no questions.\n"
   ]
  }
 ],
 "metadata": {
  "language_info": {
   "name": "python"
  },
  "orig_nbformat": 4
 },
 "nbformat": 4,
 "nbformat_minor": 2
}
