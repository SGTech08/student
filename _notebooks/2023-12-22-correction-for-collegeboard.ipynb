{
 "cells": [
  {
   "cell_type": "markdown",
   "metadata": {},
   "source": [
    "---\n",
    "toc: true\n",
    "comments: true\n",
    "layout: post\n",
    "title: Collegeboard corrections\n",
    "description: Discussion and reflection on recent collegeboard mcq\n",
    "courses: {csp: {week: 16}}\n",
    "type: hacks\n",
    "---"
   ]
  },
  {
   "cell_type": "markdown",
   "metadata": {},
   "source": [
    "# Test Corrections\n",
    "Score: 65/67 score\n",
    "\n",
    "The collegeboard quiz multiple choice I took was far more easier than the other one we took earlier. It more felt like I was not anymore fatigued while going through the quiz and doing the questions. I was able to easily eliminate the wrong answers while keeping the right one in the game. On this MC I scored a 65/67 compared to the first MC we took during first trimester. I slightly improved from the other quiz and I wan't to further eliminate any silly mistakes that I have done.\n",
    "\n",
    "\n",
    "In the future I want to control the silly mistakes that are shown through my quiz. Silly mistakes have occured when my fatigue was starting to creep down on me."
   ]
  },
  {
   "cell_type": "markdown",
   "metadata": {},
   "source": [
    "One of my mistakes was on q:23\n",
    "\n",
    "\n",
    "Answer D\n",
    "Correct. The flowchart sets available to true whenever weekday is true and miles is less than 20, and sets available to false otherwise. This code statement provides the same functionality.\n",
    "\n",
    "My answer was B. \n",
    "\n",
    "The mistake i did here was forgot to label the shapes on what it does in the actual program. This led to me mistunderstanding the code presented to me. This is really a silly mistake indeed.\n",
    "\n",
    "\n",
    "\n",
    "The second mistake I did on my test was on question 67\n",
    "\n",
    "By this time my fatigue started affecting my performance hard. I still need to train harder on my efficiency while taking longer tests since ap exams take upwards of 3 hours which is insane. If I can't do this a simple test It will be hard for me to focus on my other tests.\n",
    "\n",
    "\n",
    "Answer A\n",
    "Correct. For this code segment, count is increased to 1 the first time \"birch\" is encountered in the list. However, count is reset to 0 when the code segment moves to the next list element. The last time \"birch\" is encountered in the list, count is again increased to 1, causing the procedure to return 1 instead of the intended result 2."
   ]
  }
 ],
 "metadata": {
  "language_info": {
   "name": "python"
  },
  "orig_nbformat": 4
 },
 "nbformat": 4,
 "nbformat_minor": 2
}
