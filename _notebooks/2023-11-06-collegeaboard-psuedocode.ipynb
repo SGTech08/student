{
 "cells": [
  {
   "cell_type": "markdown",
   "metadata": {},
   "source": [
    "---\n",
    "toc: true\n",
    "comments: true\n",
    "layout: post\n",
    "title: collegeboard psuedocode\n",
    "description: Team LEIA\n",
    "type: hacks\n",
    "courses: { csp: {week: 8} }\n",
    "---"
   ]
  },
  {
   "cell_type": "markdown",
   "metadata": {},
   "source": [
    "// A simple note-taking program\n",
    "\n",
    "// Define a list to hold notes\n",
    "List notes = []\n",
    "\n",
    "// Define a procedure to add a note\n",
    "Procedure addNote(noteText)\n",
    "    notes.add(noteText)\n",
    "EndProcedure\n",
    "\n",
    "// Define a procedure to display all notes\n",
    "Procedure showNotes()\n",
    "    For each note in notes\n",
    "        Display note\n",
    "    EndFor\n",
    "EndProcedure\n",
    "\n",
    "// Main program starts here\n",
    "Display \"Note-Taking Program\"\n",
    "Display \"What would you like to do?\"\n",
    "Display \"1: Add Note, 2: Show Notes, 0: Exit\"\n",
    "\n",
    "// Variable to store user's choice\n",
    "choice = GetUserInput()\n",
    "\n",
    "While choice != 0\n",
    "    If choice == 1\n",
    "        Display \"Enter your note:\"\n",
    "        noteText = GetUserInput()\n",
    "        Call addNote(noteText)\n",
    "        Display \"Note added.\"\n",
    "    ElseIf choice == 2\n",
    "        Call showNotes()\n",
    "    Else\n",
    "        Display \"Invalid option, please try again.\"\n",
    "    EndIf\n",
    "    \n",
    "    Display \"What would you like to do next?\"\n",
    "    Display \"1: Add Note, 2: Show Notes, 0: Exit\"\n",
    "    choice = GetUserInput()\n",
    "EndWhile\n",
    "\n",
    "Display \"Program exited.\"\n"
   ]
  }
 ],
 "metadata": {
  "kernelspec": {
   "display_name": "Python 3",
   "language": "python",
   "name": "python3"
  },
  "language_info": {
   "codemirror_mode": {
    "name": "ipython",
    "version": 3
   },
   "file_extension": ".py",
   "mimetype": "text/x-python",
   "name": "python",
   "nbconvert_exporter": "python",
   "pygments_lexer": "ipython3",
   "version": "3.11.4"
  }
 },
 "nbformat": 4,
 "nbformat_minor": 2
}
