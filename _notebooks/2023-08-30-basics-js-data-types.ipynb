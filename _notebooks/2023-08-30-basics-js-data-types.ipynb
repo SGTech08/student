{
 "cells": [
  {
   "cell_type": "markdown",
   "metadata": {},
   "source": [
    "---\n",
    "title: Javascript Data Types/Lists\n",
    "hide: True\n",
    "description: A Tech Talk on javascript data types and how to use with lists\n",
    "type: ccc\n",
    "permalink: /basics/datatypes\n",
    "author: Rohan Juneja\n",
    "courses: {csp: { week: 5 } }\n",
    "comments: True\n",
    "\n",
    "---"
   ]
  },
  {
   "cell_type": "raw",
   "metadata": {},
   "source": [
    "{% include nav_basics.html %}\n"
   ]
  },
  {
   "cell_type": "markdown",
   "metadata": {},
   "source": [
    "Hacks\n",
    "Create a JavaScript snippet below with the following requirements:\n",
    "<br>\n",
    "[X] Create an object representing yourself as a person. The object should have keys for your name, age, current classes, interests, and two more of your choosing\\n\",\n",
    "<br>\n",
    "\n",
    "[X] Your object must contain keys whose values are arrays. The arrays can be arrays of strings, numbers, or even other objects if you would like\\n\",\n",
    "<br>\n",
    "\n",
    "[X] Print the entire object with console.log after declaring it\\n\",\n",
    "<br>\n",
    "\n",
    "[X] Manipulate the arrays within the object and print the entire object with console.log as well as the specific changed key afterwards\\n\",\n",
    "<br>\n",
    "\n",
    "[X]Perform mathematical operations on fields in your object such as +, -, /, % etc. and print the results with console.log along with a message contextualizing them\\n\",\n",
    "<br>\n",
    "\n",
    "[X] Use typeof to determine the types of at least 3 fields in your object\"\n"
   ]
  },
  {
   "cell_type": "code",
   "execution_count": 2,
   "metadata": {
    "vscode": {
     "languageId": "javascript"
    }
   },
   "outputs": [
    {
     "data": {
      "application/javascript": "let myself = {\n    name: \"saathvik\",\n    lastName: \"Gampa\",\n    age: 14,\n    carsOwned: 2,\n    passions: [\"Crypto\", \"School\", \"Music\"],\n    classesInOrder: [\"Advanced Placement Calculus AB\", \"Advanced Placement Computer Science Principles\", \"Advanced Placement Chemistry\", \"Honors Humanities\", \"Spanish Six\"]\n}\n\nconsole.log(myself);\n// Deleting carsOwned Value\ndelete myself.carsOwned;\nconsole.log(myself);\n// Increasing value by one for age\nmyself.age++;\nconsole.log(myself);\n\n// Guessing Age\nconsole.log(\"Choose a number between 1 and 9\");\nlet numberGuessed = 3;\nnumberGuessed = numberGuessed * 2;\nnumberGuessed = numberGuessed + 5;\nnumberGuessed = numberGuessed * 50;\nconsole.log(\"Did your birthday already occur this year? Answer with Y or N\");\nlet birthdayThisYear = \"N\";\nif (birthdayThisYear === \"Y\") {\n    numberGuessed = numberGuessed + 1767;\n} else {\n    numberGuessed = numberGuessed + 1766;\n}\n\nconsole.log(\"What year were you born?\");\nlet birthYear = 2008;\nnumberGuessed = numberGuessed - birthYear;\nconsole.log(numberGuessed + \" The first digit is the number you chose initially, and the last two digits is your birth year!\");\n\n// Typeof\nconsole.log(typeof myself.name);  // Corrected this line\nconsole.log(typeof myself.age);  // Corrected this line\nconsole.log(typeof myself.passions);  // Corrected this line\n\n\n",
      "text/plain": [
       "<IPython.core.display.Javascript object>"
      ]
     },
     "metadata": {},
     "output_type": "display_data"
    }
   ],
   "source": [
    "%%js\n",
    "let myself = {\n",
    "    name: \"saathvik\",\n",
    "    lastName: \"Gampa\",\n",
    "    age: 14,\n",
    "    carsOwned: 2,\n",
    "    passions: [\"Crypto\", \"School\", \"Music\"],\n",
    "    classesInOrder: [\"Advanced Placement Calculus AB\", \"Advanced Placement Computer Science Principles\", \"Advanced Placement Chemistry\", \"Honors Humanities\", \"Spanish Six\"]\n",
    "}\n",
    "\n",
    "console.log(myself);\n",
    "// Deleting carsOwned Value\n",
    "delete myself.carsOwned;\n",
    "console.log(myself);\n",
    "// Increasing value by one for age\n",
    "myself.age++;\n",
    "console.log(myself);\n",
    "\n",
    "// Guessing Age\n",
    "console.log(\"Choose a number between 1 and 9\");\n",
    "let numberGuessed = 3;\n",
    "numberGuessed = numberGuessed * 2;\n",
    "numberGuessed = numberGuessed + 5;\n",
    "numberGuessed = numberGuessed * 50;\n",
    "console.log(\"Did your birthday already occur this year? Answer with Y or N\");\n",
    "let birthdayThisYear = \"N\";\n",
    "if (birthdayThisYear === \"Y\") {\n",
    "    numberGuessed = numberGuessed + 1767;\n",
    "} else {\n",
    "    numberGuessed = numberGuessed + 1766;\n",
    "}\n",
    "\n",
    "console.log(\"What year were you born?\");\n",
    "let birthYear = 2008;\n",
    "numberGuessed = numberGuessed - birthYear;\n",
    "console.log(numberGuessed + \" The first digit is the number you chose initially, and the last two digits is your birth year!\");\n",
    "\n",
    "// Typeof\n",
    "console.log(typeof myself.name);  // Corrected this line\n",
    "console.log(typeof myself.age);  // Corrected this line\n",
    "console.log(typeof myself.passions);  // Corrected this line\n",
    "\n",
    "\n"
   ]
  }
 ],
 "metadata": {
  "kernelspec": {
   "display_name": "Python 3 (ipykernel)",
   "language": "python",
   "name": "python3"
  },
  "language_info": {
   "codemirror_mode": {
    "name": "ipython",
    "version": 3
   },
   "file_extension": ".py",
   "mimetype": "text/x-python",
   "name": "python",
   "nbconvert_exporter": "python",
   "pygments_lexer": "ipython3",
   "version": "3.11.4"
  }
 },
 "nbformat": 4,
 "nbformat_minor": 4
}
